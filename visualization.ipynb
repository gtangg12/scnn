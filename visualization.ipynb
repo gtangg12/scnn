{
 "cells": [
  {
   "cell_type": "code",
   "execution_count": 1,
   "metadata": {},
   "outputs": [],
   "source": [
    "%load_ext autoreload\n",
    "%autoreload 2"
   ]
  },
  {
   "cell_type": "code",
   "execution_count": 2,
   "metadata": {},
   "outputs": [],
   "source": [
    "import numpy as np\n",
    "import torch"
   ]
  },
  {
   "cell_type": "code",
   "execution_count": 3,
   "metadata": {},
   "outputs": [
    {
     "name": "stdout",
     "output_type": "stream",
     "text": [
      "********************************************************************************\n",
      "WARNING: Imported VTK version (9.3) does not match the one used\n",
      "         to build the TVTK classes (9.2). This may cause problems.\n",
      "         Please rebuild TVTK.\n",
      "********************************************************************************\n",
      "\n"
     ]
    }
   ],
   "source": [
    "from mayavi import mlab\n",
    "from renderer import generate_equiangular_rays\n",
    "\n",
    "\n",
    "def plot_mayavi(f, n: int):\n",
    "    directions = generate_equiangular_rays(n)\n",
    "    mlab.mesh(\n",
    "        directions[:, :, 0], \n",
    "        directions[:, :, 1], \n",
    "        directions[:, :, 2], scalars=f, colormap='coolwarm'\n",
    "    )\n",
    "    mlab.show()"
   ]
  },
  {
   "cell_type": "code",
   "execution_count": 4,
   "metadata": {},
   "outputs": [],
   "source": [
    "distances1 = np.load('/home/gtangg12/data/scnn/s2/airplane_0001.npy')\n",
    "distances2 = np.load('/home/gtangg12/data/scnn/s2/airplane_0002.npy')\n",
    "\n",
    "features1  = np.load('/home/gtangg12/data/scnn/airplane/scnn_features/airplane_0001.npy')\n",
    "features2  = np.load('/home/gtangg12/data/scnn/airplane/scnn_features/airplane_0002.npy')\n",
    "\n",
    "#plot_mayavi(distances1, 64)\n",
    "#plot_mayavi(distances2, 64)\n",
    "plot_mayavi(features1[0], 32)\n",
    "plot_mayavi(features1[10], 32)\n",
    "plot_mayavi(features1[20], 32)\n",
    "#plot_mayavi(features2[0], 32)"
   ]
  },
  {
   "cell_type": "code",
   "execution_count": 17,
   "metadata": {},
   "outputs": [],
   "source": [
    "features1          = np.load('/home/gtangg12/data/scnn/scnn_features/airplane_0001.npy')\n",
    "features1_train1_0 = np.load('/home/gtangg12/data/scnn/scnn_features_autoencoder/train/airplane_0001_0000.npy')\n",
    "features1_test1_48 = np.load('/home/gtangg12/data/scnn/scnn_features_autoencoder/test/airplane_0001_0048.npy')\n",
    "\n",
    "plot_mayavi(features1         [0], 32)\n",
    "plot_mayavi(features1_train1_0[0], 32)\n",
    "plot_mayavi(features1_test1_48[0], 32)"
   ]
  }
 ],
 "metadata": {
  "kernelspec": {
   "display_name": "scnn",
   "language": "python",
   "name": "python3"
  },
  "language_info": {
   "codemirror_mode": {
    "name": "ipython",
    "version": 3
   },
   "file_extension": ".py",
   "mimetype": "text/x-python",
   "name": "python",
   "nbconvert_exporter": "python",
   "pygments_lexer": "ipython3",
   "version": "3.10.13"
  }
 },
 "nbformat": 4,
 "nbformat_minor": 2
}
